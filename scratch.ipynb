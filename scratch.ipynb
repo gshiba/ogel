{
 "cells": [
  {
   "cell_type": "markdown",
   "metadata": {},
   "source": [
    "# About\n",
    "\n",
    "TBD"
   ]
  },
  {
   "cell_type": "code",
   "execution_count": 1,
   "metadata": {},
   "outputs": [],
   "source": [
    "import ipywidgets as widgets\n",
    "from ipyevents import Event \n",
    "from IPython.display import display, clear_output, Image\n",
    "import json\n",
    "from io import BytesIO\n",
    "from PIL import Image as PILImage\n",
    "from pathlib import Path\n",
    "\n",
    "import os\n",
    "\n",
    "from datetime import datetime\n",
    "\n",
    "import pandas as pd\n",
    "import numpy as np\n",
    "\n",
    "from functools import lru_cache"
   ]
  },
  {
   "cell_type": "code",
   "execution_count": 2,
   "metadata": {},
   "outputs": [],
   "source": [
    "import base64"
   ]
  },
  {
   "cell_type": "code",
   "execution_count": null,
   "metadata": {},
   "outputs": [],
   "source": []
  },
  {
   "cell_type": "code",
   "execution_count": 3,
   "metadata": {},
   "outputs": [],
   "source": [
    "def pilimage2bytes(pil_image):\n",
    "    with BytesIO() as f:\n",
    "        pil_image.save(f, format='jpeg')\n",
    "        f.seek(0)\n",
    "        return f.read()"
   ]
  },
  {
   "cell_type": "code",
   "execution_count": 4,
   "metadata": {},
   "outputs": [],
   "source": [
    "def parse_via_json(path):\n",
    "    \"\"\"Convert VII json to a list (file_name, file_size, x, y)\"\"\"\n",
    "    \n",
    "    with open(path) as f:\n",
    "        d = json.load(f)\n",
    "        \n",
    "    d = d['_via_img_metadata']\n",
    "    \n",
    "    ret = []\n",
    "    \n",
    "    for fname_size in d.keys():\n",
    "        i = fname_size.lower().index('.jpg')\n",
    "        i = i + len('.jpg')\n",
    "        fname = fname_size[:i]\n",
    "        fsize = int(fname_size[i:])\n",
    "        e = d[fname_size]\n",
    "        assert e['filename'] == fname\n",
    "        for region in e['regions']:\n",
    "            p = region['shape_attributes']\n",
    "            assert p['name'] == 'point'\n",
    "            x, y = p['cx'], p['cy']\n",
    "            ret.append((fname, fsize, x, y))\n",
    "    return ret\n",
    "\n",
    "lst = parse_via_json('/Users/gosuke/Downloads/via_project_27Feb2019_22h13m(1).json')"
   ]
  },
  {
   "cell_type": "code",
   "execution_count": 5,
   "metadata": {},
   "outputs": [],
   "source": [
    "DEFAULT_DATA_DIRECTORY = Path('~/repos/lego/data').expanduser()"
   ]
  },
  {
   "cell_type": "code",
   "execution_count": 27,
   "metadata": {},
   "outputs": [],
   "source": [
    "class LabelDatabase:\n",
    "    idx_cols = ['file_name', 'file_size', 'x', 'y']\n",
    "    val_cols = ['label']\n",
    "    all_cols = idx_cols + val_cols\n",
    "    \n",
    "    def __init__(self, data_directory=DEFAULT_DATA_DIRECTORY):\n",
    "        data_directory = Path(data_directory)\n",
    "        try:\n",
    "            df = pd.read_csv(data_directory/'labels.latest.csv')\n",
    "            assert set(df.columns) == set(LabelDatabase.all_cols), df.columns\n",
    "            df = df.set_index(LabelDatabase.idx_cols)\n",
    "        except FileNotFoundError:\n",
    "            df = pd.DataFrame([])\n",
    "        self.df = df\n",
    "        \n",
    "    def import_from_vii(self, path):\n",
    "        f = pd.DataFrame(parse_via_json(path), columns=LabelDatabase.idx_cols)\n",
    "        f['label'] = np.nan\n",
    "        f = f.set_index(LabelDatabase.idx_cols)\n",
    "        if self.df.empty:\n",
    "            self.df = f\n",
    "        else:\n",
    "            self.df = self.df.merge(f, how='outer', on='label', left_index=True, right_index=True)\n",
    "\n",
    "    def save(self):\n",
    "        ts = datetime.now().strftime('%Y%m%d-%H%M%S-%f')\n",
    "        paths = [\n",
    "            DEFAULT_DATA_DIRECTORY / 'labels.latest.csv',\n",
    "            DEFAULT_DATA_DIRECTORY / f'labels.{ts}.csv',\n",
    "        ]\n",
    "        for path in paths:\n",
    "            self.df.reset_index().to_csv(path, index=False)\n",
    "            \n",
    "    def update(self, key, label):\n",
    "        self.df.loc[key, 'label'] = label\n",
    "        \n",
    "    def __len__(self):\n",
    "        return len(self.df)\n",
    "    \n",
    "    def vc(self):\n",
    "        return pd.DataFrame(dict(\n",
    "            n=self.df.label.value_counts(dropna=False),\n",
    "            frac=self.df.label.value_counts(dropna=False, normalize=True),\n",
    "        )).rename_axis('label', axis=0)\n",
    "    \n",
    "    def keys(self, unlabeled_only=True):\n",
    "        rows = self.df.label.isnull() if unlabeled_only else slice()\n",
    "        return self.df.loc[rows].index.to_list()"
   ]
  },
  {
   "cell_type": "code",
   "execution_count": 28,
   "metadata": {},
   "outputs": [
    {
     "data": {
      "text/plain": [
       "12"
      ]
     },
     "execution_count": 28,
     "metadata": {},
     "output_type": "execute_result"
    }
   ],
   "source": [
    "db = LabelDatabase()\n",
    "len(db)"
   ]
  },
  {
   "cell_type": "code",
   "execution_count": 29,
   "metadata": {},
   "outputs": [
    {
     "data": {
      "text/plain": [
       "478"
      ]
     },
     "execution_count": 29,
     "metadata": {},
     "output_type": "execute_result"
    }
   ],
   "source": [
    "db.import_from_vii('/Users/gosuke/Downloads/via_project_27Feb2019_22h13m(1).json')\n",
    "len(db)"
   ]
  },
  {
   "cell_type": "code",
   "execution_count": 30,
   "metadata": {},
   "outputs": [],
   "source": [
    "db.save()"
   ]
  },
  {
   "cell_type": "code",
   "execution_count": 15,
   "metadata": {},
   "outputs": [],
   "source": [
    "class LegoImages:\n",
    "    def __init__(self):\n",
    "        self.images = {}\n",
    "        self.get_crop = lru_cache()(self.get_crop)\n",
    "        \n",
    "    def _load(self, fname):\n",
    "        if fname in self.images: return\n",
    "        self.images[fname] = PILImage.open(DEFAULT_DATA_DIRECTORY/'raw'/fname)\n",
    "        \n",
    "    def get_crop(self, fsxy, wh=300, resize=200, grey=False):\n",
    "        fname, fsize, x, y = fsxy\n",
    "        o = wh // 2\n",
    "        self._load(fname)\n",
    "        img = self.images[fname].crop((x-o, y-o, x+o, y+o))  # (left, top, right, bottom)\n",
    "        img = img.resize((resize, resize))\n",
    "        pixels = img.load()\n",
    "        x, y = img.size\n",
    "        x = x // 2\n",
    "        y = y // 2\n",
    "        w = 10\n",
    "        for i in range(x-w, x+w):\n",
    "            for j in range(y-w, y+w):\n",
    "                pixels[i, j] = (255, 255, 255)\n",
    "        pixels[x, y] = (0, 0, 0)\n",
    "        if grey:\n",
    "            img = img.convert(mode='L')  # greyscale\n",
    "        return pilimage2bytes(img)\n",
    "    \n",
    "lego_images = LegoImages()"
   ]
  },
  {
   "cell_type": "code",
   "execution_count": null,
   "metadata": {},
   "outputs": [],
   "source": []
  },
  {
   "cell_type": "code",
   "execution_count": 16,
   "metadata": {},
   "outputs": [],
   "source": [
    "class ImageAndLabel(widgets.VBox):\n",
    "    def __init__(self):\n",
    "        self.label = widgets.HTML(\n",
    "            value='?',\n",
    "            layout=widgets.Layout(height='100px'),\n",
    "        )\n",
    "        self.image = widgets.Image(\n",
    "            layout=widgets.Layout(height='200px', width='200px'),\n",
    "        )\n",
    "        children = (self.label, self.image)\n",
    "        super().__init__(children)\n",
    "        self.clear()\n",
    "        \n",
    "    def update(self, img, label):\n",
    "        self.image.value = img\n",
    "        self.label.value = str(label)\n",
    "\n",
    "    def clear(self):\n",
    "        s = 'iVBORw0KGgoAAAANSUhEUgAAAAEAAAABCAYAAAAfFcSJAAAADUlEQVR42mM8cYLhPwAGgQKRee0MwAAAAABJRU5ErkJggg=='\n",
    "        self.image.value = base64.b64decode(s)\n",
    "        self.label.value = ''"
   ]
  },
  {
   "cell_type": "code",
   "execution_count": 17,
   "metadata": {},
   "outputs": [],
   "source": [
    "class Landmarks(dict):\n",
    "    def coordinates(self):\n",
    "        return list(self.keys())\n",
    "    def labels(self):\n",
    "        return list(self.values())"
   ]
  },
  {
   "cell_type": "code",
   "execution_count": 31,
   "metadata": {
    "scrolled": false
   },
   "outputs": [
    {
     "data": {
      "application/vnd.jupyter.widget-view+json": {
       "model_id": "d3fdcb8fa208495fb376a978ac789114",
       "version_major": 2,
       "version_minor": 0
      },
      "text/plain": [
       "VBox(children=(HBox(children=(ImageAndLabel(children=(HTML(value='<div style=\"text-align: center;\"><span style…"
      ]
     },
     "metadata": {},
     "output_type": "display_data"
    }
   ],
   "source": [
    "class ImageLabeler:\n",
    "    def __init__(self, label_name):\n",
    "        self.clix = 0  # current landmark index\n",
    "        self.length = len(db)\n",
    "        self.n_panels = 5\n",
    "        self.panels = [ImageAndLabel() for _ in range(self.n_panels)]\n",
    "        self.label_name = label_name\n",
    "        self.landmarks = Landmarks({k: None for k in db.keys()})\n",
    "        \n",
    "        self.c = widgets.HTML('Click or type on me!')\n",
    "        button = widgets.Button(description=\"Save\", layout=widgets.Layout(width='auto'))\n",
    "        button.on_click(self.save)\n",
    "        w = widgets.HBox([*self.panels])\n",
    "        w = widgets.VBox([w, self.c, button])\n",
    "        self.widget = w\n",
    "        \n",
    "        self.d = Event(source=self.widget, watched_events=['keydown'])\n",
    "        self.d.on_dom_event(self.handle_event)                  \n",
    "        \n",
    "        self.target_label = 'q'\n",
    "        \n",
    "        self.render()\n",
    "        display(self.widget)\n",
    "    \n",
    "    def save(self, _):\n",
    "        db.save()\n",
    "        \n",
    "    def render(self):\n",
    "        self.update_panels()\n",
    "        self.c.value = '<pre style=\"line-height: 12px;\">' + db.vc().to_string().replace('\\n', '\\n') + '</pre>'\n",
    "    \n",
    "    def update_panels(self):\n",
    "        for pix in range(self.n_panels):\n",
    "            self.update_panel(pix, self.clix + pix)\n",
    "            \n",
    "    def update_panel(self, pix, lix):\n",
    "        if not 0 <= lix < len(self.landmarks):\n",
    "            self.panels[pix].clear()\n",
    "            return\n",
    "        coord = self.landmarks.coordinates()[lix]\n",
    "        is_target_label = self.landmarks[coord]  # T, F or None\n",
    "        data = lego_images.get_crop(coord)\n",
    "        if is_target_label:\n",
    "            yn, color = 'yes', 'green'\n",
    "        elif is_target_label is None:\n",
    "            yn, color = '?', 'grey'\n",
    "        else:\n",
    "            yn, color = 'no', 'red'\n",
    "        ch = 'hjkl;'[pix]\n",
    "            \n",
    "        style = f'font-size: x-large; color: {color};'\n",
    "        style2 = f'font-family: mono; color: grey;'\n",
    "        caption = [\n",
    "            f'<span style=\"{style}\">{yn}</span>',\n",
    "            f'({lix + 1} of {self.length})',\n",
    "            f'<span style=\"{style2}\">{ch}</span>',\n",
    "        ]\n",
    "        caption = '<br>'.join(caption)\n",
    "        caption = f'<div style=\"text-align: center;\">{caption}</span>'\n",
    "        \n",
    "        self.panels[pix].update(data, caption)\n",
    "        self.panels[pix].layout.border = f'5px solid {color}'\n",
    "        \n",
    "    def toggle_label(self, clix):\n",
    "        if not 0 <= clix < len(self.landmarks):\n",
    "            return\n",
    "        coord = self.landmarks.coordinates()[clix]\n",
    "        current = self.landmarks[coord]\n",
    "        new = True if current is None else not current\n",
    "        self.landmarks[coord] = new\n",
    "        db.update(coord, new)\n",
    "        \n",
    "    def falsify_if_unset(self, clix):\n",
    "        if not 0 <= clix < len(self.landmarks):\n",
    "            return\n",
    "        coord = self.landmarks.coordinates()[clix]\n",
    "        current = self.landmarks[coord]\n",
    "        new = False if current is None else current\n",
    "        self.landmarks[coord] = new\n",
    "        db.update(coord, new)\n",
    "        \n",
    "    def handle_event(self, event):\n",
    "        key = event['key']\n",
    "        if key in 'hjkl;':\n",
    "            pix = 'hjkl;'.index(key)\n",
    "            self.toggle_label(self.clix + pix)\n",
    "        elif key in ['[', 'ArrowLeft']:\n",
    "            self.clix -= self.n_panels\n",
    "        elif key in [']', 'ArrowRight']:\n",
    "            self.clix += self.n_panels\n",
    "        elif key in ['Enter']:\n",
    "            for i in range(self.n_panels):\n",
    "                self.falsify_if_unset(self.clix + i)\n",
    "            self.clix += self.n_panels\n",
    "        elif key == 'ArrowUp':\n",
    "            self.padding += 5\n",
    "        elif key == 'ArrowDown':\n",
    "            self.padding -= 5\n",
    "        else:\n",
    "            self.c.value = f\"You pressed: {key}\"\n",
    "            return\n",
    "        self.clix = max(self.clix, 0)\n",
    "        max_ix = len(self.landmarks) // self.n_panels * self.n_panels\n",
    "        self.clix = min(max_ix, self.clix)\n",
    "        self.render()\n",
    "            \n",
    "label_name = 'block_1x2'\n",
    "il = ImageLabeler(label_name)"
   ]
  },
  {
   "cell_type": "code",
   "execution_count": null,
   "metadata": {},
   "outputs": [],
   "source": []
  },
  {
   "cell_type": "code",
   "execution_count": null,
   "metadata": {},
   "outputs": [],
   "source": []
  },
  {
   "cell_type": "code",
   "execution_count": null,
   "metadata": {},
   "outputs": [],
   "source": []
  },
  {
   "cell_type": "code",
   "execution_count": null,
   "metadata": {},
   "outputs": [],
   "source": []
  },
  {
   "cell_type": "code",
   "execution_count": null,
   "metadata": {},
   "outputs": [],
   "source": []
  },
  {
   "cell_type": "code",
   "execution_count": null,
   "metadata": {},
   "outputs": [],
   "source": []
  },
  {
   "cell_type": "code",
   "execution_count": null,
   "metadata": {},
   "outputs": [],
   "source": []
  },
  {
   "cell_type": "code",
   "execution_count": null,
   "metadata": {},
   "outputs": [],
   "source": []
  },
  {
   "cell_type": "code",
   "execution_count": null,
   "metadata": {},
   "outputs": [],
   "source": []
  },
  {
   "cell_type": "code",
   "execution_count": null,
   "metadata": {},
   "outputs": [],
   "source": []
  },
  {
   "cell_type": "code",
   "execution_count": null,
   "metadata": {},
   "outputs": [],
   "source": []
  },
  {
   "cell_type": "code",
   "execution_count": null,
   "metadata": {},
   "outputs": [],
   "source": []
  },
  {
   "cell_type": "code",
   "execution_count": null,
   "metadata": {},
   "outputs": [],
   "source": []
  }
 ],
 "metadata": {
  "kernelspec": {
   "display_name": "Python [conda env:fastai]",
   "language": "python",
   "name": "conda-env-fastai-py"
  },
  "language_info": {
   "codemirror_mode": {
    "name": "ipython",
    "version": 3
   },
   "file_extension": ".py",
   "mimetype": "text/x-python",
   "name": "python",
   "nbconvert_exporter": "python",
   "pygments_lexer": "ipython3",
   "version": "3.7.2"
  }
 },
 "nbformat": 4,
 "nbformat_minor": 2
}
